{
 "cells": [
  {
   "cell_type": "code",
   "execution_count": 94,
   "id": "e34e8146-e870-4cee-99da-500059848dbc",
   "metadata": {},
   "outputs": [],
   "source": [
    "import yfinance as yF\n",
    "from yahoo_fin import stock_info as si\n",
    "import os\n",
    "import pandas as pd\n",
    "import numpy as np\n",
    "import seaborn as sns\n",
    "import matplotlib\n",
    "import matplotlib.pyplot as plt\n",
    "import matplotlib.mlab as mlab\n",
    "import matplotlib\n",
    "plt.style.use('ggplot')\n",
    "from matplotlib.pyplot import figure\n",
    "import pandas_datareader.data as web\n",
    "import datetime\n",
    "import warnings\n",
    "warnings.filterwarnings(\"ignore\")"
   ]
  },
  {
   "cell_type": "code",
   "execution_count": 95,
   "id": "4f12f307-86b3-4de9-bd5a-6e7cda6f5cb4",
   "metadata": {},
   "outputs": [],
   "source": [
    "NDX_url = 'https://en.wikipedia.org/wiki/Nasdaq-100'"
   ]
  },
  {
   "cell_type": "code",
   "execution_count": 96,
   "id": "1398b9bb-12cf-4752-8fd8-bf51f477c342",
   "metadata": {},
   "outputs": [],
   "source": [
    "nasdaq100 = pd.read_html(NDX_url, header=0)[4]"
   ]
  },
  {
   "cell_type": "code",
   "execution_count": 97,
   "id": "413cdf47-f629-4a95-8027-3ecaf1ff89a1",
   "metadata": {},
   "outputs": [],
   "source": [
    "nasdaq100 = nasdaq100['Ticker']"
   ]
  },
  {
   "cell_type": "code",
   "execution_count": 98,
   "id": "fd61029a-92cf-4ecb-b901-fa22eb705b2f",
   "metadata": {},
   "outputs": [],
   "source": [
    "ticker_list = nasdaq100.to_list()"
   ]
  },
  {
   "cell_type": "code",
   "execution_count": 99,
   "id": "070f6672-a0d6-42e1-b8ab-76cf441362a0",
   "metadata": {},
   "outputs": [],
   "source": [
    "#------"
   ]
  },
  {
   "cell_type": "code",
   "execution_count": 100,
   "id": "c90c68ee-67ee-4b2e-b5bc-7cbefd2fc85a",
   "metadata": {},
   "outputs": [],
   "source": [
    "#Start and End date need to be at least one month greater than a year apart. \n",
    "start =\"2022-01-01\"\n",
    "end = \"2023-06-01\""
   ]
  },
  {
   "cell_type": "code",
   "execution_count": 101,
   "id": "4f3df7ae-da25-4634-8249-5c7148f38343",
   "metadata": {},
   "outputs": [],
   "source": [
    "#List of tickers used for the strategy.\n",
    "ticker_s = ticker_list"
   ]
  },
  {
   "cell_type": "code",
   "execution_count": 102,
   "id": "081896ca-2f7c-43e1-881e-49149a1be110",
   "metadata": {},
   "outputs": [],
   "source": [
    "#------"
   ]
  },
  {
   "cell_type": "code",
   "execution_count": 103,
   "id": "7aa63156-9101-44e8-b56e-a881f00df6e1",
   "metadata": {
    "tags": []
   },
   "outputs": [],
   "source": [
    "def SMA_Above(ticker_symbol):\n",
    "    for column in ticker_symbol:\n",
    "        ticker_symbol[column+'_SMA'] = ticker_symbol[column].rolling(168).mean()\n",
    "        if ticker_symbol.iloc[-1][column+'_SMA'] > ticker_symbol.iloc[-1][column]:\n",
    "            ticker_symbol.drop(column, axis=1, inplace=True)\n",
    "    \n",
    "    regex_str = '_SMA'\n",
    "    ticker_symbol = ticker_symbol.drop(ticker_symbol.columns[ticker_symbol.columns.str.contains(regex_str)], axis=1)\n",
    "    global column_names\n",
    "    column_names = ticker_symbol.columns.values.tolist()"
   ]
  },
  {
   "cell_type": "code",
   "execution_count": 104,
   "id": "4101f3b9-5d58-41b2-846c-fca363d4b6c4",
   "metadata": {
    "tags": []
   },
   "outputs": [],
   "source": [
    "def get_momentum_multiple(current):\n",
    "    global momentum_matrix\n",
    "    #Major issues with the monthly outcomes not being accurate. \n",
    "    #------\n",
    "    #1 Month\n",
    "    month_1 = current.tail(1).copy()\n",
    "    #3 Month\n",
    "    month_3 = current.tail(3).copy()\n",
    "    #6 Month\n",
    "    month_6 = current.tail(6).copy()\n",
    "    #9 Month\n",
    "    month_9 = current.tail(9).copy()\n",
    "    #12 Month\n",
    "    month_12 = current.tail(12).copy()\n",
    "    #Month 1 Perf.\n",
    "    month_1_per = month_1\n",
    "    month_1 = (month_1_per*100).round(2)\n",
    "    #Month 3,6,9,12 Perf.\n",
    "    df_list = month_3, month_6, month_9, month_12\n",
    "    for dataframe in df_list:\n",
    "        for column in dataframe:\n",
    "            dataframe[column] = ((1 + dataframe[column]).cumprod()-1)\n",
    "            dataframe[column] = (dataframe[column]*100).round(2)    \n",
    "    #------\n",
    "    #Average\n",
    "    momentum_matrix = pd.concat([month_1.tail(1), month_3.tail(1), month_6.tail(1), month_9.tail(1), month_12.tail(1)], axis=0)\n",
    "    momentum_matrix = momentum_matrix.mean(axis=0).round(2)\n",
    "    #Removes Assets with 0 or negative momentum\n",
    "    momentum_matrix = momentum_matrix.drop(momentum_matrix[momentum_matrix <= 0].index)\n",
    "    #Only selects the top 5 assets\n",
    "    momentum_matrix = momentum_matrix.nlargest(n=5, keep='first')"
   ]
  },
  {
   "cell_type": "code",
   "execution_count": 105,
   "id": "e3ae03dd-50b8-4164-bed8-81854f0f439e",
   "metadata": {},
   "outputs": [],
   "source": [
    "#------"
   ]
  },
  {
   "cell_type": "code",
   "execution_count": 106,
   "id": "393e9ce9-94a1-4c9c-aae4-33e96cd27bdc",
   "metadata": {},
   "outputs": [
    {
     "name": "stdout",
     "output_type": "stream",
     "text": [
      "[*********************100%***********************]  101 of 101 completed\n"
     ]
    }
   ],
   "source": [
    "#SMA Data\n",
    "#Removes assets that are below thier 168 day or 8 month SMA. \n",
    "df = yF.download(ticker_s, start=start, end=end)['Adj Close']\n",
    "SMA_Above(df)"
   ]
  },
  {
   "cell_type": "code",
   "execution_count": 108,
   "id": "66f0941b-02cb-4f3e-8a3f-e1262cdfbcad",
   "metadata": {},
   "outputs": [],
   "source": [
    "#------"
   ]
  },
  {
   "cell_type": "code",
   "execution_count": 109,
   "id": "e374bc9d-e00e-4e8b-88d2-7b3f995331b3",
   "metadata": {},
   "outputs": [
    {
     "name": "stdout",
     "output_type": "stream",
     "text": [
      "[*********************100%***********************]  67 of 67 completed\n"
     ]
    }
   ],
   "source": [
    "#Momentum\n",
    "#Selects the top 5 assets based on momentum and removes assets with momentum <= 0. \n",
    "ticker_s = column_names\n",
    "df1 = yF.download(ticker_s, start=start, end=end)['Adj Close']\n",
    "df1 = (df1.pct_change() +1)[1:].resample('M').prod()\n",
    "df1 = df1 - 1\n",
    "get_momentum_multiple(df1)"
   ]
  },
  {
   "cell_type": "code",
   "execution_count": 110,
   "id": "1185ad57-e1d4-4340-9625-9688a337ca8d",
   "metadata": {},
   "outputs": [
    {
     "data": {
      "text/plain": [
       "NVDA    61.33\n",
       "META    45.64\n",
       "NFLX    38.44\n",
       "CPRT    34.20\n",
       "MELI    34.18\n",
       "dtype: float64"
      ]
     },
     "execution_count": 110,
     "metadata": {},
     "output_type": "execute_result"
    }
   ],
   "source": [
    "momentum_matrix"
   ]
  },
  {
   "cell_type": "code",
   "execution_count": 111,
   "id": "a2ac5d48-f17f-4d8f-82b9-3a6049b7ae9f",
   "metadata": {},
   "outputs": [],
   "source": [
    "path = 'C:/Users/monic/Documents/Portfolio Data/Strategy Asset Data'\n",
    "output_file = os.path.join(path,'NDX_Assets.csv')\n",
    "momentum_matrix.to_csv(output_file, index=True)"
   ]
  },
  {
   "cell_type": "code",
   "execution_count": null,
   "id": "91d98251-253f-4572-8ae3-1e52900ff006",
   "metadata": {},
   "outputs": [],
   "source": []
  }
 ],
 "metadata": {
  "kernelspec": {
   "display_name": "Python 3 (ipykernel)",
   "language": "python",
   "name": "python3"
  },
  "language_info": {
   "codemirror_mode": {
    "name": "ipython",
    "version": 3
   },
   "file_extension": ".py",
   "mimetype": "text/x-python",
   "name": "python",
   "nbconvert_exporter": "python",
   "pygments_lexer": "ipython3",
   "version": "3.10.9"
  }
 },
 "nbformat": 4,
 "nbformat_minor": 5
}
